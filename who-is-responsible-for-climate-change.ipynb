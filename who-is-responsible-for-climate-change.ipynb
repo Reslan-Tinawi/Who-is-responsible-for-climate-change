{
 "cells": [
  {
   "cell_type": "markdown",
   "metadata": {
    "collapsed": "true"
   },
   "source": [
    "# Import libraries:"
   ]
  },
  {
   "cell_type": "code",
   "execution_count": null,
   "metadata": {},
   "outputs": [],
   "source": [
    "import numpy as np\n",
    "import pandas as pd\n",
    "import plotly.express as px\n",
    "import plotly.graph_objects as go\n",
    "from plotly.subplots import make_subplots\n",
    "import seaborn as sns\n",
    "import world_bank_data as wb\n",
    "from kaleido.scopes.plotly import PlotlyScope"
   ]
  },
  {
   "cell_type": "markdown",
   "metadata": {
    "collapsed": "true"
   },
   "source": [
    "# Load and preprocess data:"
   ]
  },
  {
   "cell_type": "code",
   "execution_count": null,
   "metadata": {},
   "outputs": [],
   "source": [
    "CO2_EMISSION_DATA = \"EN.ATM.CO2E.KT\"\n",
    "COUNTRY_POPULATION_SIZE_DATA = \"SP.POP.TOTL\"\n",
    "COUNTRY_LAND_AREA_DATA = \"AG.LND.TOTL.K2\"\n",
    "COUNTRY_GDP_DATA = \"NY.GDP.MKTP.CD\""
   ]
  },
  {
   "cell_type": "markdown",
   "metadata": {},
   "source": [
    "## CO2 emissions data:"
   ]
  },
  {
   "cell_type": "code",
   "execution_count": null,
   "metadata": {},
   "outputs": [],
   "source": [
    "co2_emissions_df = (\n",
    "    wb.get_series(CO2_EMISSION_DATA, simplify_index=True)\n",
    "    .reset_index()\n",
    "    .rename(columns={CO2_EMISSION_DATA: \"co2 emissions\"})\n",
    ")"
   ]
  },
  {
   "cell_type": "code",
   "execution_count": null,
   "metadata": {},
   "outputs": [],
   "source": [
    "co2_emissions_df.head()"
   ]
  },
  {
   "cell_type": "markdown",
   "metadata": {},
   "source": [
    "## Country population data:"
   ]
  },
  {
   "cell_type": "code",
   "execution_count": null,
   "metadata": {},
   "outputs": [],
   "source": [
    "country_population_df = (\n",
    "    wb.get_series(COUNTRY_POPULATION_SIZE_DATA, simplify_index=True)\n",
    "    .reset_index()\n",
    "    .rename(columns={COUNTRY_POPULATION_SIZE_DATA: \"population size\"})\n",
    ")"
   ]
  },
  {
   "cell_type": "code",
   "execution_count": null,
   "metadata": {},
   "outputs": [],
   "source": [
    "country_population_df.head()"
   ]
  },
  {
   "cell_type": "markdown",
   "metadata": {},
   "source": [
    "## Country land area data:"
   ]
  },
  {
   "cell_type": "code",
   "execution_count": null,
   "metadata": {},
   "outputs": [],
   "source": [
    "# year 2017 has the most recent non-missing data\n",
    "country_land_area_df = (\n",
    "    wb.get_series(COUNTRY_LAND_AREA_DATA, simplify_index=True, date=\"2017\")\n",
    "    .reset_index()\n",
    "    .rename(columns={COUNTRY_LAND_AREA_DATA: \"land area\"})\n",
    ")"
   ]
  },
  {
   "cell_type": "code",
   "execution_count": null,
   "metadata": {},
   "outputs": [],
   "source": [
    "country_land_area_df.head()"
   ]
  },
  {
   "cell_type": "markdown",
   "metadata": {},
   "source": [
    "## Country GDP data:"
   ]
  },
  {
   "cell_type": "code",
   "execution_count": null,
   "metadata": {},
   "outputs": [],
   "source": [
    "country_gdp_df = (\n",
    "    wb.get_series(COUNTRY_GDP_DATA, simplify_index=True)\n",
    "    .reset_index()\n",
    "    .rename(columns={COUNTRY_GDP_DATA: \"GDP\"})\n",
    ")"
   ]
  },
  {
   "cell_type": "code",
   "execution_count": null,
   "metadata": {},
   "outputs": [],
   "source": [
    "country_gdp_df.head()"
   ]
  },
  {
   "cell_type": "markdown",
   "metadata": {},
   "source": [
    "## Country income group data:"
   ]
  },
  {
   "cell_type": "code",
   "execution_count": null,
   "metadata": {},
   "outputs": [],
   "source": [
    "countries_df = wb.get_countries().reset_index()"
   ]
  },
  {
   "cell_type": "code",
   "execution_count": null,
   "metadata": {},
   "outputs": [],
   "source": [
    "countries_df.head()"
   ]
  },
  {
   "cell_type": "markdown",
   "metadata": {},
   "source": [
    "## Create aggregated data:"
   ]
  },
  {
   "cell_type": "code",
   "execution_count": null,
   "metadata": {},
   "outputs": [],
   "source": [
    "co2_emissions_agg_df = (\n",
    "    co2_emissions_df.groupby(by=\"Country\")\n",
    "    .agg({\"co2 emissions\": \"sum\"})\n",
    "    .reset_index()\n",
    "    .sort_values(by=\"co2 emissions\", ascending=False)\n",
    ")"
   ]
  },
  {
   "cell_type": "code",
   "execution_count": null,
   "metadata": {},
   "outputs": [],
   "source": [
    "co2_emissions_agg_df.head()"
   ]
  },
  {
   "cell_type": "markdown",
   "metadata": {},
   "source": [
    "## Merge data into two data frames:"
   ]
  },
  {
   "cell_type": "markdown",
   "metadata": {},
   "source": [
    "### Merge not-time based statistics:"
   ]
  },
  {
   "cell_type": "code",
   "execution_count": null,
   "metadata": {},
   "outputs": [],
   "source": [
    "columns_to_drop = [\n",
    "    \"id\",\n",
    "    \"iso2Code\",\n",
    "    \"name\",\n",
    "    \"adminregion\",\n",
    "    \"lendingType\",\n",
    "    \"capitalCity\",\n",
    "    \"longitude\",\n",
    "    \"latitude\",\n",
    "]"
   ]
  },
  {
   "cell_type": "code",
   "execution_count": null,
   "metadata": {},
   "outputs": [],
   "source": [
    "overall_stats_df = (\n",
    "    co2_emissions_agg_df.merge(right=country_land_area_df, on=\"Country\")\n",
    "    .merge(right=countries_df, left_on=\"Country\", right_on=\"name\")\n",
    "    .drop(columns=columns_to_drop)\n",
    "    .sort_values(by=\"co2 emissions\", ascending=False)\n",
    ")"
   ]
  },
  {
   "cell_type": "code",
   "execution_count": null,
   "metadata": {},
   "outputs": [],
   "source": [
    "overall_stats_df.head()"
   ]
  },
  {
   "cell_type": "markdown",
   "metadata": {},
   "source": [
    "### Merge time-based data frames:"
   ]
  },
  {
   "cell_type": "code",
   "execution_count": null,
   "metadata": {},
   "outputs": [],
   "source": [
    "time_series_df = (\n",
    "    co2_emissions_df.merge(right=country_gdp_df, on=[\"Country\", \"Year\"])\n",
    "    .merge(right=country_population_df, on=[\"Country\", \"Year\"])\n",
    "    .sort_values(by=\"Year\")\n",
    ")"
   ]
  },
  {
   "cell_type": "code",
   "execution_count": null,
   "metadata": {},
   "outputs": [],
   "source": [
    "time_series_df.head()"
   ]
  },
  {
   "cell_type": "markdown",
   "metadata": {},
   "source": [
    "## Convert `dtyps`:"
   ]
  },
  {
   "cell_type": "markdown",
   "metadata": {},
   "source": [
    "### `overall_stats_df`:"
   ]
  },
  {
   "cell_type": "code",
   "execution_count": null,
   "metadata": {},
   "outputs": [],
   "source": [
    "overall_stats_df.dtypes"
   ]
  },
  {
   "cell_type": "markdown",
   "metadata": {},
   "source": [
    "### `time_series_df`:"
   ]
  },
  {
   "cell_type": "code",
   "execution_count": null,
   "metadata": {},
   "outputs": [],
   "source": [
    "time_series_df.dtypes"
   ]
  },
  {
   "cell_type": "code",
   "execution_count": null,
   "metadata": {},
   "outputs": [],
   "source": [
    "time_series_df = time_series_df.astype({\"Year\": \"int\"})"
   ]
  },
  {
   "cell_type": "code",
   "execution_count": null,
   "metadata": {},
   "outputs": [],
   "source": [
    "time_series_df.dtypes"
   ]
  },
  {
   "cell_type": "markdown",
   "metadata": {},
   "source": [
    "## Drop non-country rows"
   ]
  },
  {
   "cell_type": "code",
   "execution_count": null,
   "metadata": {},
   "outputs": [],
   "source": [
    "non_countries = countries_df.loc[lambda x: x[\"region\"] == \"Aggregates\"][\"name\"].values"
   ]
  },
  {
   "cell_type": "code",
   "execution_count": null,
   "metadata": {},
   "outputs": [],
   "source": [
    "non_countries = np.append(non_countries, \"Latin America & Caribbean\")\n",
    "non_countries = np.append(non_countries, \"Sub-Saharan Africa\")"
   ]
  },
  {
   "cell_type": "markdown",
   "metadata": {},
   "source": [
    "### `overall_stats_df`:"
   ]
  },
  {
   "cell_type": "code",
   "execution_count": null,
   "metadata": {},
   "outputs": [],
   "source": [
    "overall_stats_df.shape"
   ]
  },
  {
   "cell_type": "code",
   "execution_count": null,
   "metadata": {},
   "outputs": [],
   "source": [
    "overall_stats_df.drop(\n",
    "    index=overall_stats_df[overall_stats_df[\"Country\"].isin(non_countries)].index,\n",
    "    inplace=True,\n",
    ")"
   ]
  },
  {
   "cell_type": "code",
   "execution_count": null,
   "metadata": {},
   "outputs": [],
   "source": [
    "overall_stats_df.shape"
   ]
  },
  {
   "cell_type": "markdown",
   "metadata": {},
   "source": [
    "### `time_series_df`:"
   ]
  },
  {
   "cell_type": "code",
   "execution_count": null,
   "metadata": {},
   "outputs": [],
   "source": [
    "time_series_df.shape"
   ]
  },
  {
   "cell_type": "code",
   "execution_count": null,
   "metadata": {},
   "outputs": [],
   "source": [
    "time_series_df.drop(\n",
    "    index=time_series_df[time_series_df[\"Country\"].isin(non_countries)].index,\n",
    "    inplace=True,\n",
    ")"
   ]
  },
  {
   "cell_type": "code",
   "execution_count": null,
   "metadata": {},
   "outputs": [],
   "source": [
    "time_series_df.shape"
   ]
  },
  {
   "cell_type": "markdown",
   "metadata": {
    "collapsed": "true"
   },
   "source": [
    "## Create new statistics:"
   ]
  },
  {
   "cell_type": "code",
   "execution_count": null,
   "metadata": {},
   "outputs": [],
   "source": [
    "overall_stats_df.head()"
   ]
  },
  {
   "cell_type": "markdown",
   "metadata": {},
   "source": [
    "### CO2 emissions per square k.m:"
   ]
  },
  {
   "cell_type": "code",
   "execution_count": null,
   "metadata": {},
   "outputs": [],
   "source": [
    "# overall_stats_df[\"emissions per area\"] = (\n",
    "#     overall_stats_df[\"co2 emissions\"] / overall_stats_df[\"land area\"]\n",
    "# )"
   ]
  },
  {
   "cell_type": "markdown",
   "metadata": {},
   "source": [
    "### CO2 emissions per capita:"
   ]
  },
  {
   "cell_type": "code",
   "execution_count": null,
   "metadata": {},
   "outputs": [],
   "source": [
    "time_series_df[\"emissions per capita\"] = (\n",
    "    time_series_df[\"co2 emissions\"] / time_series_df[\"population size\"]\n",
    ")"
   ]
  },
  {
   "cell_type": "markdown",
   "metadata": {
    "collapsed": "true"
   },
   "source": [
    "# Data visualization:"
   ]
  },
  {
   "cell_type": "code",
   "execution_count": null,
   "metadata": {},
   "outputs": [],
   "source": [
    "def get_top_n_countries(n: int, by: str):\n",
    "    return overall_stats_df.sort_values(by=by, ascending=False)[:n][\"Country\"].values"
   ]
  },
  {
   "cell_type": "markdown",
   "metadata": {},
   "source": [
    "## Global emissions throught the years:"
   ]
  },
  {
   "cell_type": "markdown",
   "metadata": {},
   "source": [
    "### Yearly gloabl emissions:"
   ]
  },
  {
   "cell_type": "markdown",
   "metadata": {},
   "source": [
    "Let's first take a look at CO2 emissions, and how it increased year by year:"
   ]
  },
  {
   "cell_type": "code",
   "execution_count": null,
   "metadata": {},
   "outputs": [],
   "source": [
    "temp_df = (\n",
    "    time_series_df.groupby(by=\"Year\")\n",
    "    .agg({\"co2 emissions\": np.sum})\n",
    "    .reset_index()\n",
    "    .sort_values(by=\"Year\")\n",
    "    .loc[lambda x: x[\"co2 emissions\"] > 0]\n",
    ")"
   ]
  },
  {
   "cell_type": "code",
   "execution_count": null,
   "metadata": {},
   "outputs": [],
   "source": [
    "fig = px.bar(\n",
    "    data_frame=temp_df,\n",
    "    x=\"Year\",\n",
    "    y=\"co2 emissions\",\n",
    "    title=\"Total CO2 emissions every year\",\n",
    "    labels={\"co2 emissions\": \"CO2 emissions\"},\n",
    "    color=\"co2 emissions\",\n",
    "    color_continuous_scale=[\"#FAA307\", \"#DC2F02\"],\n",
    ")\n",
    "\n",
    "fig.show()"
   ]
  },
  {
   "cell_type": "code",
   "execution_count": null,
   "metadata": {},
   "outputs": [],
   "source": [
    "scope = PlotlyScope()"
   ]
  },
  {
   "cell_type": "code",
   "execution_count": null,
   "metadata": {},
   "outputs": [],
   "source": [
    "with open(\"charts/total-co2-emissions-every-year.png\", \"wb\") as f:\n",
    "    f.write(scope.transform(fig, \"png\"))"
   ]
  },
  {
   "cell_type": "markdown",
   "metadata": {},
   "source": [
    "It's obvious that the emissions are increasing every year, not at a constant pace, but the difference between each 10 years is huge.\n",
    "\n",
    "The emissions are not increasing between each year and the next year, sometimes it's stay the same and sometimes it decreases.\n",
    "\n",
    "Let's see the difference in total emissions between every consecutive years:"
   ]
  },
  {
   "cell_type": "code",
   "execution_count": null,
   "metadata": {},
   "outputs": [],
   "source": [
    "temp_df[\"change in emissions\"] = temp_df[\"co2 emissions\"].diff()"
   ]
  },
  {
   "cell_type": "code",
   "execution_count": null,
   "metadata": {},
   "outputs": [],
   "source": [
    "temp_df[\"change in emissions label\"] = \"increase\""
   ]
  },
  {
   "cell_type": "code",
   "execution_count": null,
   "metadata": {},
   "outputs": [],
   "source": [
    "temp_df.loc[\n",
    "    lambda x: x[\"change in emissions\"] < 0, \"change in emissions label\"\n",
    "] = \"decrease\""
   ]
  },
  {
   "cell_type": "code",
   "execution_count": null,
   "metadata": {},
   "outputs": [],
   "source": [
    "fig = px.bar(\n",
    "    data_frame=temp_df,\n",
    "    x=\"Year\",\n",
    "    y=\"change in emissions\",\n",
    "    color=\"change in emissions label\",\n",
    "    title=\"Change in CO2 emissions every year\",\n",
    ")\n",
    "\n",
    "fig.update_layout(legend_title_text=\"change in emissions\")\n",
    "\n",
    "fig.show()"
   ]
  },
  {
   "cell_type": "code",
   "execution_count": null,
   "metadata": {},
   "outputs": [],
   "source": [
    "with open(\"charts/change-in-co2-emissions-every-year.png\", \"wb\") as f:\n",
    "    f.write(scope.transform(fig, \"png\"))"
   ]
  },
  {
   "cell_type": "markdown",
   "metadata": {},
   "source": [
    "We can see that at some years, the emissions were actually **decerasing**, or increasing at a low pace, but some other years the increase was huge. at year `1970` the total emissions increased by more than one million, and the same for year `1991`, and year `2010` had the biggest increase by nearly two millions."
   ]
  },
  {
   "cell_type": "markdown",
   "metadata": {
    "collapsed": "true"
   },
   "source": [
    "### Global emissions every decade:"
   ]
  },
  {
   "cell_type": "markdown",
   "metadata": {},
   "source": [
    "The previous section showed the total global emissions for every single year, but we can see that there's a huge difference in the total emissions now and in the previous 40 years.\n",
    "\n",
    "Let's see how the change for every decade (10 years) would look like:"
   ]
  },
  {
   "cell_type": "code",
   "execution_count": null,
   "metadata": {},
   "outputs": [],
   "source": [
    "temp_df = (\n",
    "    time_series_df.groupby(by=time_series_df.Year // 10 * 10)\n",
    "    .agg({\"co2 emissions\": np.sum})\n",
    "    .reset_index()\n",
    "    .sort_values(by=\"Year\")\n",
    "    .loc[lambda x: x[\"co2 emissions\"] > 0]\n",
    ")"
   ]
  },
  {
   "cell_type": "code",
   "execution_count": null,
   "metadata": {},
   "outputs": [],
   "source": [
    "fig = px.bar(\n",
    "    data_frame=temp_df,\n",
    "    x=\"Year\",\n",
    "    y=\"co2 emissions\",\n",
    "    title=\"Total CO2 emissions every decade\",\n",
    "    labels={\"co2 emissions\": \"CO2 emissions\"},\n",
    "    color=\"co2 emissions\",\n",
    "    color_continuous_scale=[\"#FAA307\", \"#DC2F02\"],\n",
    ")\n",
    "\n",
    "fig.show()"
   ]
  },
  {
   "cell_type": "markdown",
   "metadata": {},
   "source": [
    "Aggregating the carbon dioxide emissions at the decade level reveal new information: the last decade (2000-2010) had the most global emissions.\n",
    "\n",
    "Let's study the downward/upward trend in the change of carbon dioxide emissions at the decade level."
   ]
  },
  {
   "cell_type": "code",
   "execution_count": null,
   "metadata": {},
   "outputs": [],
   "source": [
    "temp_df[\"change in emissions\"] = temp_df[\"co2 emissions\"].diff()"
   ]
  },
  {
   "cell_type": "code",
   "execution_count": null,
   "metadata": {},
   "outputs": [],
   "source": [
    "temp_df[\"change in emissions label\"] = \"increase\""
   ]
  },
  {
   "cell_type": "code",
   "execution_count": null,
   "metadata": {},
   "outputs": [],
   "source": [
    "temp_df.loc[\n",
    "    lambda x: x[\"change in emissions\"] < 0, \"change in emissions label\"\n",
    "] = \"decrease\""
   ]
  },
  {
   "cell_type": "code",
   "execution_count": null,
   "metadata": {},
   "outputs": [],
   "source": [
    "fig = px.bar(\n",
    "    data_frame=temp_df,\n",
    "    x=\"Year\",\n",
    "    y=\"change in emissions\",\n",
    "    color=\"change in emissions label\",\n",
    "    title=\"Change in CO2 emissions every decade\",\n",
    ")\n",
    "\n",
    "fig.update_layout(legend_title_text=\"Change in emissions\")\n",
    "\n",
    "fig.show()"
   ]
  },
  {
   "cell_type": "markdown",
   "metadata": {},
   "source": [
    "The biggest increase in CO2 emissions was between the years `1970` and `1980`, during the time the total emissions increased by nearly 60 million."
   ]
  },
  {
   "cell_type": "markdown",
   "metadata": {},
   "source": [
    "## Which countries emit the most carbon dioxide today:"
   ]
  },
  {
   "cell_type": "markdown",
   "metadata": {},
   "source": [
    "The previous section showed how the carbon dioxide emissions were increasing rapidly, and how different the increase was between decades.\n",
    "\n",
    "Here, in this section, we'll focus more at which *countries* were emitting the most in the last decade (year `2010` to `2016`), then in the next section we'll see the historical emissions, and how that will lead us to different conclusions.\n",
    "\n",
    "**Note**: the data set contains only values up to year `2016`, that's why later years are missing from the analysis."
   ]
  },
  {
   "cell_type": "code",
   "execution_count": null,
   "metadata": {},
   "outputs": [],
   "source": [
    "time_series_df.head()"
   ]
  },
  {
   "cell_type": "code",
   "execution_count": null,
   "metadata": {},
   "outputs": [],
   "source": [
    "temp_df = (\n",
    "    time_series_df[time_series_df.Year >= 2010]\n",
    "    .groupby(by=\"Country\")\n",
    "    .agg({\"co2 emissions\": np.mean})\n",
    "    .reset_index()\n",
    "    .sort_values(by=\"co2 emissions\", ascending=False)\n",
    "    .dropna()\n",
    ")"
   ]
  },
  {
   "cell_type": "code",
   "execution_count": null,
   "metadata": {},
   "outputs": [],
   "source": [
    "temp_df.head()"
   ]
  },
  {
   "cell_type": "code",
   "execution_count": null,
   "metadata": {},
   "outputs": [],
   "source": [
    "px.bar(\n",
    "    data_frame=temp_df[:20],\n",
    "    x=\"Country\",\n",
    "    y=\"co2 emissions\",\n",
    "    color=\"co2 emissions\",\n",
    "    color_continuous_scale=[\"#FAA307\", \"#DC2F02\"],\n",
    "    labels={\"co2 emissions\": \"CO2 emissions\"},\n",
    "    title=\"Top 20 most emitter countries\",\n",
    ")"
   ]
  },
  {
   "cell_type": "code",
   "execution_count": null,
   "metadata": {},
   "outputs": [],
   "source": [
    "threshold = temp_df.iloc[10, 1]"
   ]
  },
  {
   "cell_type": "code",
   "execution_count": null,
   "metadata": {},
   "outputs": [],
   "source": [
    "temp_df.loc[lambda x: x[\"co2 emissions\"] <= threshold, \"Country\"] = \"Rest of the world\""
   ]
  },
  {
   "cell_type": "code",
   "execution_count": null,
   "metadata": {},
   "outputs": [],
   "source": [
    "px.pie(data_frame=temp_df, names=\"Country\", values=\"co2 emissions\", color='Country')"
   ]
  },
  {
   "cell_type": "code",
   "execution_count": null,
   "metadata": {},
   "outputs": [],
   "source": []
  },
  {
   "cell_type": "code",
   "execution_count": null,
   "metadata": {},
   "outputs": [],
   "source": []
  }
 ],
 "metadata": {
  "kernelspec": {
   "display_name": "Python 3",
   "language": "python",
   "name": "python3"
  },
  "language_info": {
   "codemirror_mode": {
    "name": "ipython",
    "version": 3
   },
   "file_extension": ".py",
   "mimetype": "text/x-python",
   "name": "python",
   "nbconvert_exporter": "python",
   "pygments_lexer": "ipython3",
   "version": "3.8.3"
  },
  "toc-autonumbering": true,
  "toc-showcode": false,
  "toc-showmarkdowntxt": false,
  "toc-showtags": false
 },
 "nbformat": 4,
 "nbformat_minor": 4
}
