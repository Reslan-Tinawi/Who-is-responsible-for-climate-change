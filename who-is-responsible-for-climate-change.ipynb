{
 "cells": [
  {
   "cell_type": "code",
   "execution_count": 12,
   "metadata": {},
   "outputs": [],
   "source": [
    "import numpy as np\n",
    "import pandas as pd\n",
    "import plotly.express as px\n",
    "import seaborn as sns\n",
    "import world_bank_data as wb"
   ]
  },
  {
   "cell_type": "code",
   "execution_count": 13,
   "metadata": {},
   "outputs": [],
   "source": [
    "CO2_EMISSION_DATA = \"EN.ATM.CO2E.KT\"\n",
    "COUNTRY_POPULATION_SIZE_DATA = \"SP.POP.TOTL\"\n",
    "POVERTY_HEADCOUNT_RATIO_DATA = \"SI.POV.DDAY\"\n",
    "COUNTRY_LAND_AREA_DATA = \"AG.LND.TOTL.K2\"\n",
    "COUNTRY_GDP_DATA = \"NY.GDP.MKTP.CD\""
   ]
  },
  {
   "cell_type": "code",
   "execution_count": 14,
   "metadata": {},
   "outputs": [],
   "source": [
    "co2_emissions_series = (\n",
    "    wb.get_series(CO2_EMISSION_DATA, simplify_index=True)\n",
    "    .reset_index()\n",
    "    .rename(columns={CO2_EMISSION_DATA: \"co2 emissions\"})\n",
    ")"
   ]
  },
  {
   "cell_type": "code",
   "execution_count": 15,
   "metadata": {},
   "outputs": [],
   "source": [
    "country_population_series = (\n",
    "    wb.get_series(COUNTRY_POPULATION_SIZE_DATA, simplify_index=True)\n",
    "    .reset_index()\n",
    "    .rename(columns={COUNTRY_POPULATION_SIZE_DATA: 'population size'})\n",
    ")"
   ]
  },
  {
   "cell_type": "code",
   "execution_count": 16,
   "metadata": {},
   "outputs": [],
   "source": [
    "poverty_percentages_series = (\n",
    "    wb.get_series(POVERTY_HEADCOUNT_RATIO_DATA, simplify_index=True)\n",
    "    .reset_index()\n",
    "    .rename(columns={POVERTY_HEADCOUNT_RATIO_DATA: \"poverty percentage\"})\n",
    ")"
   ]
  },
  {
   "cell_type": "code",
   "execution_count": 17,
   "metadata": {},
   "outputs": [],
   "source": [
    "country_land_area_series = (\n",
    "    wb.get_series(COUNTRY_LAND_AREA_DATA, simplify_index=True)\n",
    "    .reset_index()\n",
    "    .rename(columns={COUNTRY_LAND_AREA_DATA: \"land area\"})\n",
    ")"
   ]
  },
  {
   "cell_type": "code",
   "execution_count": 18,
   "metadata": {},
   "outputs": [],
   "source": [
    "country_gdp_series = (\n",
    "    wb.get_series(COUNTRY_GDP_DATA, simplify_index=True)\n",
    "    .reset_index()\n",
    "    .rename(columns={COUNTRY_GDP_DATA: \"GDP\"})\n",
    ")"
   ]
  },
  {
   "cell_type": "code",
   "execution_count": 27,
   "metadata": {},
   "outputs": [],
   "source": [
    "country_income_group_df = pd.read_csv('worldbank_classification.csv')"
   ]
  },
  {
   "cell_type": "code",
   "execution_count": 28,
   "metadata": {},
   "outputs": [
    {
     "data": {
      "text/html": [
       "<div>\n",
       "<style scoped>\n",
       "    .dataframe tbody tr th:only-of-type {\n",
       "        vertical-align: middle;\n",
       "    }\n",
       "\n",
       "    .dataframe tbody tr th {\n",
       "        vertical-align: top;\n",
       "    }\n",
       "\n",
       "    .dataframe thead th {\n",
       "        text-align: right;\n",
       "    }\n",
       "</style>\n",
       "<table border=\"1\" class=\"dataframe\">\n",
       "  <thead>\n",
       "    <tr style=\"text-align: right;\">\n",
       "      <th></th>\n",
       "      <th>x</th>\n",
       "      <th>Economy</th>\n",
       "      <th>Code</th>\n",
       "      <th>Region</th>\n",
       "      <th>Income group</th>\n",
       "      <th>Lending category</th>\n",
       "      <th>Other</th>\n",
       "    </tr>\n",
       "  </thead>\n",
       "  <tbody>\n",
       "    <tr>\n",
       "      <th>0</th>\n",
       "      <td>1</td>\n",
       "      <td>Afghanistan</td>\n",
       "      <td>AFG</td>\n",
       "      <td>South Asia</td>\n",
       "      <td>Low income</td>\n",
       "      <td>IDA</td>\n",
       "      <td>HIPC</td>\n",
       "    </tr>\n",
       "    <tr>\n",
       "      <th>1</th>\n",
       "      <td>2</td>\n",
       "      <td>Albania</td>\n",
       "      <td>ALB</td>\n",
       "      <td>Europe &amp; Central Asia</td>\n",
       "      <td>Upper middle income</td>\n",
       "      <td>IBRD</td>\n",
       "      <td>NaN</td>\n",
       "    </tr>\n",
       "    <tr>\n",
       "      <th>2</th>\n",
       "      <td>3</td>\n",
       "      <td>Algeria</td>\n",
       "      <td>DZA</td>\n",
       "      <td>Middle East &amp; North Africa</td>\n",
       "      <td>Upper middle income</td>\n",
       "      <td>IBRD</td>\n",
       "      <td>NaN</td>\n",
       "    </tr>\n",
       "    <tr>\n",
       "      <th>3</th>\n",
       "      <td>4</td>\n",
       "      <td>American Samoa</td>\n",
       "      <td>ASM</td>\n",
       "      <td>East Asia &amp; Pacific</td>\n",
       "      <td>Upper middle income</td>\n",
       "      <td>NaN</td>\n",
       "      <td>NaN</td>\n",
       "    </tr>\n",
       "    <tr>\n",
       "      <th>4</th>\n",
       "      <td>5</td>\n",
       "      <td>Andorra</td>\n",
       "      <td>AND</td>\n",
       "      <td>Europe &amp; Central Asia</td>\n",
       "      <td>High income</td>\n",
       "      <td>NaN</td>\n",
       "      <td>NaN</td>\n",
       "    </tr>\n",
       "  </tbody>\n",
       "</table>\n",
       "</div>"
      ],
      "text/plain": [
       "   x         Economy Code                      Region         Income group  \\\n",
       "0  1     Afghanistan  AFG                  South Asia           Low income   \n",
       "1  2         Albania  ALB       Europe & Central Asia  Upper middle income   \n",
       "2  3         Algeria  DZA  Middle East & North Africa  Upper middle income   \n",
       "3  4  American Samoa  ASM         East Asia & Pacific  Upper middle income   \n",
       "4  5         Andorra  AND       Europe & Central Asia          High income   \n",
       "\n",
       "  Lending category Other  \n",
       "0              IDA  HIPC  \n",
       "1             IBRD   NaN  \n",
       "2             IBRD   NaN  \n",
       "3              NaN   NaN  \n",
       "4              NaN   NaN  "
      ]
     },
     "execution_count": 28,
     "metadata": {},
     "output_type": "execute_result"
    }
   ],
   "source": [
    "country_income_group_df.head()"
   ]
  },
  {
   "cell_type": "code",
   "execution_count": null,
   "metadata": {},
   "outputs": [],
   "source": []
  },
  {
   "cell_type": "code",
   "execution_count": null,
   "metadata": {},
   "outputs": [],
   "source": []
  }
 ],
 "metadata": {
  "kernelspec": {
   "display_name": "Python 3",
   "language": "python",
   "name": "python3"
  },
  "language_info": {
   "codemirror_mode": {
    "name": "ipython",
    "version": 3
   },
   "file_extension": ".py",
   "mimetype": "text/x-python",
   "name": "python",
   "nbconvert_exporter": "python",
   "pygments_lexer": "ipython3",
   "version": "3.8.3"
  }
 },
 "nbformat": 4,
 "nbformat_minor": 4
}
