{
 "cells": [
  {
   "cell_type": "markdown",
   "metadata": {
    "collapsed": "true"
   },
   "source": [
    "# Import libraries:"
   ]
  },
  {
   "cell_type": "code",
   "execution_count": null,
   "metadata": {},
   "outputs": [],
   "source": [
    "import numpy as np\n",
    "import pandas as pd\n",
    "import plotly.express as px\n",
    "import plotly.graph_objects as go\n",
    "from plotly.subplots import make_subplots\n",
    "import seaborn as sns\n",
    "import world_bank_data as wb\n",
    "from helpers import save_figure"
   ]
  },
  {
   "cell_type": "markdown",
   "metadata": {
    "collapsed": "true"
   },
   "source": [
    "# Load and preprocess data:"
   ]
  },
  {
   "cell_type": "code",
   "execution_count": null,
   "metadata": {},
   "outputs": [],
   "source": [
    "CO2_EMISSION_DATA = \"EN.ATM.CO2E.KT\"\n",
    "COUNTRY_POPULATION_SIZE_DATA = \"SP.POP.TOTL\"\n",
    "COUNTRY_LAND_AREA_DATA = \"AG.LND.TOTL.K2\"\n",
    "COUNTRY_GDP_DATA = \"NY.GDP.MKTP.CD\""
   ]
  },
  {
   "cell_type": "markdown",
   "metadata": {},
   "source": [
    "## CO2 emissions data:"
   ]
  },
  {
   "cell_type": "code",
   "execution_count": null,
   "metadata": {},
   "outputs": [],
   "source": [
    "co2_emissions_df = (\n",
    "    wb.get_series(CO2_EMISSION_DATA, simplify_index=True)\n",
    "    .reset_index()\n",
    "    .rename(columns={CO2_EMISSION_DATA: \"co2 emissions\"})\n",
    ")"
   ]
  },
  {
   "cell_type": "code",
   "execution_count": null,
   "metadata": {},
   "outputs": [],
   "source": [
    "co2_emissions_df.head()"
   ]
  },
  {
   "cell_type": "markdown",
   "metadata": {},
   "source": [
    "## Country population data:"
   ]
  },
  {
   "cell_type": "code",
   "execution_count": null,
   "metadata": {},
   "outputs": [],
   "source": [
    "country_population_df = (\n",
    "    wb.get_series(COUNTRY_POPULATION_SIZE_DATA, simplify_index=True)\n",
    "    .reset_index()\n",
    "    .rename(columns={COUNTRY_POPULATION_SIZE_DATA: \"population size\"})\n",
    ")"
   ]
  },
  {
   "cell_type": "code",
   "execution_count": null,
   "metadata": {},
   "outputs": [],
   "source": [
    "country_population_df.head()"
   ]
  },
  {
   "cell_type": "markdown",
   "metadata": {},
   "source": [
    "## Country land area data:"
   ]
  },
  {
   "cell_type": "code",
   "execution_count": null,
   "metadata": {},
   "outputs": [],
   "source": [
    "# year 2017 has the most recent non-missing data\n",
    "country_land_area_df = (\n",
    "    wb.get_series(COUNTRY_LAND_AREA_DATA, simplify_index=True, date=\"2017\")\n",
    "    .reset_index()\n",
    "    .rename(columns={COUNTRY_LAND_AREA_DATA: \"land area\"})\n",
    ")"
   ]
  },
  {
   "cell_type": "code",
   "execution_count": null,
   "metadata": {},
   "outputs": [],
   "source": [
    "country_land_area_df.head()"
   ]
  },
  {
   "cell_type": "markdown",
   "metadata": {},
   "source": [
    "## Country GDP data:"
   ]
  },
  {
   "cell_type": "code",
   "execution_count": null,
   "metadata": {},
   "outputs": [],
   "source": [
    "country_gdp_df = (\n",
    "    wb.get_series(COUNTRY_GDP_DATA, simplify_index=True)\n",
    "    .reset_index()\n",
    "    .rename(columns={COUNTRY_GDP_DATA: \"GDP\"})\n",
    ")"
   ]
  },
  {
   "cell_type": "code",
   "execution_count": null,
   "metadata": {},
   "outputs": [],
   "source": [
    "country_gdp_df.head()"
   ]
  },
  {
   "cell_type": "markdown",
   "metadata": {},
   "source": [
    "## Country income group data:"
   ]
  },
  {
   "cell_type": "code",
   "execution_count": null,
   "metadata": {},
   "outputs": [],
   "source": [
    "countries_df = wb.get_countries().reset_index()"
   ]
  },
  {
   "cell_type": "code",
   "execution_count": null,
   "metadata": {},
   "outputs": [],
   "source": [
    "countries_df.head()"
   ]
  },
  {
   "cell_type": "markdown",
   "metadata": {},
   "source": [
    "## Create aggregated data:"
   ]
  },
  {
   "cell_type": "code",
   "execution_count": null,
   "metadata": {},
   "outputs": [],
   "source": [
    "co2_emissions_agg_df = (\n",
    "    co2_emissions_df.groupby(by=\"Country\")\n",
    "    .agg({\"co2 emissions\": \"sum\"})\n",
    "    .reset_index()\n",
    "    .sort_values(by=\"co2 emissions\", ascending=False)\n",
    ")"
   ]
  },
  {
   "cell_type": "code",
   "execution_count": null,
   "metadata": {},
   "outputs": [],
   "source": [
    "co2_emissions_agg_df.head()"
   ]
  },
  {
   "cell_type": "markdown",
   "metadata": {},
   "source": [
    "## Merge data into two data frames:"
   ]
  },
  {
   "cell_type": "markdown",
   "metadata": {},
   "source": [
    "### Merge not-time based statistics:"
   ]
  },
  {
   "cell_type": "code",
   "execution_count": null,
   "metadata": {},
   "outputs": [],
   "source": [
    "columns_to_drop = [\n",
    "    \"id\",\n",
    "    \"iso2Code\",\n",
    "    \"name\",\n",
    "    \"adminregion\",\n",
    "    \"lendingType\",\n",
    "    \"capitalCity\",\n",
    "    \"longitude\",\n",
    "    \"latitude\",\n",
    "]"
   ]
  },
  {
   "cell_type": "code",
   "execution_count": null,
   "metadata": {},
   "outputs": [],
   "source": [
    "overall_stats_df = (\n",
    "    co2_emissions_agg_df.merge(right=country_land_area_df, on=\"Country\")\n",
    "    .merge(right=countries_df, left_on=\"Country\", right_on=\"name\")\n",
    "    .drop(columns=columns_to_drop)\n",
    "    .sort_values(by=\"co2 emissions\", ascending=False)\n",
    ")"
   ]
  },
  {
   "cell_type": "code",
   "execution_count": null,
   "metadata": {},
   "outputs": [],
   "source": [
    "overall_stats_df.head()"
   ]
  },
  {
   "cell_type": "markdown",
   "metadata": {},
   "source": [
    "### Merge time-based data frames:"
   ]
  },
  {
   "cell_type": "code",
   "execution_count": null,
   "metadata": {},
   "outputs": [],
   "source": [
    "time_series_df = (\n",
    "    co2_emissions_df.merge(right=country_gdp_df, on=[\"Country\", \"Year\"])\n",
    "    .merge(right=country_population_df, on=[\"Country\", \"Year\"])\n",
    "    .sort_values(by=\"Year\")\n",
    ")"
   ]
  },
  {
   "cell_type": "code",
   "execution_count": null,
   "metadata": {},
   "outputs": [],
   "source": [
    "time_series_df.head()"
   ]
  },
  {
   "cell_type": "markdown",
   "metadata": {},
   "source": [
    "## Convert `dtyps`:"
   ]
  },
  {
   "cell_type": "markdown",
   "metadata": {},
   "source": [
    "### `overall_stats_df`:"
   ]
  },
  {
   "cell_type": "code",
   "execution_count": null,
   "metadata": {},
   "outputs": [],
   "source": [
    "overall_stats_df.dtypes"
   ]
  },
  {
   "cell_type": "markdown",
   "metadata": {},
   "source": [
    "### `time_series_df`:"
   ]
  },
  {
   "cell_type": "code",
   "execution_count": null,
   "metadata": {},
   "outputs": [],
   "source": [
    "time_series_df.dtypes"
   ]
  },
  {
   "cell_type": "code",
   "execution_count": null,
   "metadata": {},
   "outputs": [],
   "source": [
    "time_series_df = time_series_df.astype({\"Year\": \"int\"})"
   ]
  },
  {
   "cell_type": "code",
   "execution_count": null,
   "metadata": {},
   "outputs": [],
   "source": [
    "time_series_df.dtypes"
   ]
  },
  {
   "cell_type": "markdown",
   "metadata": {},
   "source": [
    "## Drop non-country rows"
   ]
  },
  {
   "cell_type": "code",
   "execution_count": null,
   "metadata": {},
   "outputs": [],
   "source": [
    "non_countries = countries_df.loc[lambda x: x[\"region\"] == \"Aggregates\"][\"name\"].values"
   ]
  },
  {
   "cell_type": "code",
   "execution_count": null,
   "metadata": {},
   "outputs": [],
   "source": [
    "non_countries = np.append(non_countries, \"Latin America & Caribbean\")\n",
    "non_countries = np.append(non_countries, \"Sub-Saharan Africa\")"
   ]
  },
  {
   "cell_type": "markdown",
   "metadata": {},
   "source": [
    "### `overall_stats_df`:"
   ]
  },
  {
   "cell_type": "code",
   "execution_count": null,
   "metadata": {},
   "outputs": [],
   "source": [
    "overall_stats_df.shape"
   ]
  },
  {
   "cell_type": "code",
   "execution_count": null,
   "metadata": {},
   "outputs": [],
   "source": [
    "overall_stats_df.drop(\n",
    "    index=overall_stats_df[overall_stats_df[\"Country\"].isin(non_countries)].index,\n",
    "    inplace=True,\n",
    ")"
   ]
  },
  {
   "cell_type": "code",
   "execution_count": null,
   "metadata": {},
   "outputs": [],
   "source": [
    "overall_stats_df.shape"
   ]
  },
  {
   "cell_type": "markdown",
   "metadata": {},
   "source": [
    "### `time_series_df`:"
   ]
  },
  {
   "cell_type": "code",
   "execution_count": null,
   "metadata": {},
   "outputs": [],
   "source": [
    "time_series_df.shape"
   ]
  },
  {
   "cell_type": "code",
   "execution_count": null,
   "metadata": {},
   "outputs": [],
   "source": [
    "time_series_df.drop(\n",
    "    index=time_series_df[time_series_df[\"Country\"].isin(non_countries)].index,\n",
    "    inplace=True,\n",
    ")"
   ]
  },
  {
   "cell_type": "code",
   "execution_count": null,
   "metadata": {},
   "outputs": [],
   "source": [
    "time_series_df.shape"
   ]
  },
  {
   "cell_type": "markdown",
   "metadata": {},
   "source": [
    "## Create new statistics:"
   ]
  },
  {
   "cell_type": "code",
   "execution_count": null,
   "metadata": {},
   "outputs": [],
   "source": [
    "overall_stats_df.head()"
   ]
  },
  {
   "cell_type": "markdown",
   "metadata": {},
   "source": [
    "### CO2 emissions per square k.m:"
   ]
  },
  {
   "cell_type": "code",
   "execution_count": null,
   "metadata": {},
   "outputs": [],
   "source": [
    "# overall_stats_df[\"emissions per area\"] = (\n",
    "#     overall_stats_df[\"co2 emissions\"] / overall_stats_df[\"land area\"]\n",
    "# )"
   ]
  },
  {
   "cell_type": "markdown",
   "metadata": {},
   "source": [
    "### CO2 emissions per capita:"
   ]
  },
  {
   "cell_type": "code",
   "execution_count": null,
   "metadata": {},
   "outputs": [],
   "source": [
    "time_series_df[\"emissions per capita\"] = (\n",
    "    time_series_df[\"co2 emissions\"] / time_series_df[\"population size\"]\n",
    ")"
   ]
  },
  {
   "cell_type": "markdown",
   "metadata": {
    "collapsed": "true"
   },
   "source": [
    "# Data visualization:"
   ]
  },
  {
   "cell_type": "code",
   "execution_count": null,
   "metadata": {},
   "outputs": [],
   "source": [
    "def get_top_n_countries(n: int, by: str):\n",
    "    return overall_stats_df.sort_values(by=by, ascending=False)[:n][\"Country\"].values"
   ]
  },
  {
   "cell_type": "markdown",
   "metadata": {
    "collapsed": "true"
   },
   "source": [
    "## Global emissions throught the years:"
   ]
  },
  {
   "cell_type": "markdown",
   "metadata": {
    "collapsed": "true"
   },
   "source": [
    "### Yearly gloabl emissions:"
   ]
  },
  {
   "cell_type": "markdown",
   "metadata": {},
   "source": [
    "Let's first take a look at CO2 emissions, and how it increased year by year:"
   ]
  },
  {
   "cell_type": "code",
   "execution_count": null,
   "metadata": {},
   "outputs": [],
   "source": [
    "temp_df = (\n",
    "    time_series_df.groupby(by=\"Year\")\n",
    "    .agg({\"co2 emissions\": np.sum})\n",
    "    .reset_index()\n",
    "    .sort_values(by=\"Year\")\n",
    "    .loc[lambda x: x[\"co2 emissions\"] > 0]\n",
    ")"
   ]
  },
  {
   "cell_type": "code",
   "execution_count": null,
   "metadata": {},
   "outputs": [],
   "source": [
    "fig = px.bar(\n",
    "    data_frame=temp_df,\n",
    "    x=\"Year\",\n",
    "    y=\"co2 emissions\",\n",
    "    title=\"Total CO2 emissions every year\",\n",
    "    labels={\"co2 emissions\": \"CO2 emissions\"},\n",
    "    color=\"co2 emissions\",\n",
    "    color_continuous_scale=[\"#FAA307\", \"#DC2F02\"],\n",
    ")\n",
    "\n",
    "fig.show()"
   ]
  },
  {
   "cell_type": "code",
   "execution_count": null,
   "metadata": {},
   "outputs": [],
   "source": [
    "fig_name = \"total-co2-emissions-every-year\"\n",
    "save_figure(fig, fig_name)"
   ]
  },
  {
   "cell_type": "markdown",
   "metadata": {},
   "source": [
    "It's obvious that the emissions are increasing every year, not at a constant pace, but the difference between each 10 years is huge.\n",
    "\n",
    "The emissions are not increasing between each year and the next year, sometimes it's stay the same and sometimes it decreases.\n",
    "\n",
    "Let's see the difference in total emissions between every consecutive years:"
   ]
  },
  {
   "cell_type": "code",
   "execution_count": null,
   "metadata": {},
   "outputs": [],
   "source": [
    "temp_df[\"change in emissions\"] = temp_df[\"co2 emissions\"].diff()"
   ]
  },
  {
   "cell_type": "code",
   "execution_count": null,
   "metadata": {},
   "outputs": [],
   "source": [
    "temp_df[\"change in emissions label\"] = \"increase\""
   ]
  },
  {
   "cell_type": "code",
   "execution_count": null,
   "metadata": {},
   "outputs": [],
   "source": [
    "temp_df.loc[\n",
    "    lambda x: x[\"change in emissions\"] < 0, \"change in emissions label\"\n",
    "] = \"decrease\""
   ]
  },
  {
   "cell_type": "code",
   "execution_count": null,
   "metadata": {},
   "outputs": [],
   "source": [
    "fig = px.bar(\n",
    "    data_frame=temp_df,\n",
    "    x=\"Year\",\n",
    "    y=\"change in emissions\",\n",
    "    color=\"change in emissions label\",\n",
    "    title=\"Change in CO2 emissions every year\",\n",
    ")\n",
    "\n",
    "fig.update_layout(legend_title_text=\"change in emissions\")\n",
    "\n",
    "fig.show()"
   ]
  },
  {
   "cell_type": "code",
   "execution_count": null,
   "metadata": {},
   "outputs": [],
   "source": [
    "fig_name = \"change-in-co2-emissions-every-year\"\n",
    "save_figure(fig, fig_name)"
   ]
  },
  {
   "cell_type": "markdown",
   "metadata": {},
   "source": [
    "We can see that at some years, the emissions were actually **decerasing**, or increasing at a low pace, but some other years the increase was huge. at year `1970` the total emissions increased by more than one million, and the same for year `1991`, and year `2010` had the biggest increase by nearly two millions."
   ]
  },
  {
   "cell_type": "markdown",
   "metadata": {
    "collapsed": "true"
   },
   "source": [
    "### Global emissions every decade:"
   ]
  },
  {
   "cell_type": "markdown",
   "metadata": {},
   "source": [
    "The previous section showed the total global emissions for every single year, but we can see that there's a huge difference in the total emissions now and in the previous 40 years.\n",
    "\n",
    "Let's see how the change for every decade (10 years) would look like:"
   ]
  },
  {
   "cell_type": "code",
   "execution_count": null,
   "metadata": {},
   "outputs": [],
   "source": [
    "temp_df = (\n",
    "    time_series_df.groupby(by=time_series_df.Year // 10 * 10)\n",
    "    .agg({\"co2 emissions\": np.sum})\n",
    "    .reset_index()\n",
    "    .sort_values(by=\"Year\")\n",
    "    .loc[lambda x: x[\"co2 emissions\"] > 0]\n",
    ")"
   ]
  },
  {
   "cell_type": "code",
   "execution_count": null,
   "metadata": {},
   "outputs": [],
   "source": [
    "fig = px.bar(\n",
    "    data_frame=temp_df,\n",
    "    x=\"Year\",\n",
    "    y=\"co2 emissions\",\n",
    "    title=\"Total CO2 emissions every decade\",\n",
    "    labels={\"co2 emissions\": \"CO2 emissions\"},\n",
    "    color=\"co2 emissions\",\n",
    "    color_continuous_scale=[\"#FAA307\", \"#DC2F02\"],\n",
    ")\n",
    "\n",
    "fig.show()"
   ]
  },
  {
   "cell_type": "code",
   "execution_count": null,
   "metadata": {},
   "outputs": [],
   "source": [
    "fig_name = \"total-co2-emissions-every-decade\"\n",
    "save_figure(fig, fig_name)"
   ]
  },
  {
   "cell_type": "markdown",
   "metadata": {},
   "source": [
    "Aggregating the carbon dioxide emissions at the decade level reveal new information: the last decade (2000-2010) had the most global emissions.\n",
    "\n",
    "Let's study the downward/upward trend in the change of carbon dioxide emissions at the decade level."
   ]
  },
  {
   "cell_type": "code",
   "execution_count": null,
   "metadata": {},
   "outputs": [],
   "source": [
    "temp_df[\"change in emissions\"] = temp_df[\"co2 emissions\"].diff()"
   ]
  },
  {
   "cell_type": "code",
   "execution_count": null,
   "metadata": {},
   "outputs": [],
   "source": [
    "temp_df[\"change in emissions label\"] = \"increase\""
   ]
  },
  {
   "cell_type": "code",
   "execution_count": null,
   "metadata": {},
   "outputs": [],
   "source": [
    "temp_df.loc[\n",
    "    lambda x: x[\"change in emissions\"] < 0, \"change in emissions label\"\n",
    "] = \"decrease\""
   ]
  },
  {
   "cell_type": "code",
   "execution_count": null,
   "metadata": {},
   "outputs": [],
   "source": [
    "fig = px.bar(\n",
    "    data_frame=temp_df,\n",
    "    x=\"Year\",\n",
    "    y=\"change in emissions\",\n",
    "    color=\"change in emissions label\",\n",
    "    title=\"Change in CO2 emissions every decade\",\n",
    ")\n",
    "\n",
    "fig.update_layout(legend_title_text=\"Change in emissions\")\n",
    "\n",
    "fig.show()"
   ]
  },
  {
   "cell_type": "code",
   "execution_count": null,
   "metadata": {},
   "outputs": [],
   "source": [
    "fig_name = \"change-in-co2-emissions-every-decade\"\n",
    "save_figure(fig, fig_name)"
   ]
  },
  {
   "cell_type": "markdown",
   "metadata": {},
   "source": [
    "The biggest increase in CO2 emissions was between the years `1970` and `1980`, during the time the total emissions increased by nearly 60 million."
   ]
  },
  {
   "cell_type": "markdown",
   "metadata": {
    "collapsed": "true"
   },
   "source": [
    "## Which countries emit the most carbon dioxide today:"
   ]
  },
  {
   "cell_type": "markdown",
   "metadata": {},
   "source": [
    "The previous section showed how the carbon dioxide emissions were increasing rapidly, and how different the increase was between decades.\n",
    "\n",
    "Here, in this section, we'll focus more at which *countries* were emitting the most in the last decade (year `2010` to `2016`), then in the next section we'll see the historical emissions, and how that will lead us to different conclusions.\n",
    "\n",
    "**Note**: the data set contains only values up to year `2016`, that's why later years are missing from the analysis."
   ]
  },
  {
   "cell_type": "code",
   "execution_count": null,
   "metadata": {},
   "outputs": [],
   "source": [
    "time_series_df.head()"
   ]
  },
  {
   "cell_type": "code",
   "execution_count": null,
   "metadata": {},
   "outputs": [],
   "source": [
    "temp_df = (\n",
    "    time_series_df[time_series_df.Year >= 2010]\n",
    "    .groupby(by=\"Country\")\n",
    "    .agg({\"co2 emissions\": np.mean})\n",
    "    .reset_index()\n",
    "    .sort_values(by=\"co2 emissions\", ascending=False)\n",
    "    .dropna()\n",
    ")"
   ]
  },
  {
   "cell_type": "code",
   "execution_count": null,
   "metadata": {},
   "outputs": [],
   "source": [
    "temp_df.head()"
   ]
  },
  {
   "cell_type": "code",
   "execution_count": null,
   "metadata": {},
   "outputs": [],
   "source": [
    "fig = px.bar(\n",
    "    data_frame=temp_df[:20],\n",
    "    x=\"Country\",\n",
    "    y=\"co2 emissions\",\n",
    "    color=\"co2 emissions\",\n",
    "    color_continuous_scale=[\"#FAA307\", \"#DC2F02\"],\n",
    "    labels={\"co2 emissions\": \"CO2 emissions\"},\n",
    "    title=\"Top 20 most emitter countries in the last decade\",\n",
    ")\n",
    "\n",
    "fig.show()"
   ]
  },
  {
   "cell_type": "code",
   "execution_count": null,
   "metadata": {},
   "outputs": [],
   "source": [
    "fig_name = \"top-20-most-emitter-countries-in-last-decade\"\n",
    "save_figure(fig, fig_name)"
   ]
  },
  {
   "cell_type": "markdown",
   "metadata": {},
   "source": [
    "China is in the lead with almost 10 million k.t. of CO2 emissions, the U.S. is behined emitting half of China's emissions.\n",
    "\n",
    "India, Russia, and Japan emitting more than one million k.t., and the rest 15 countries emitting less than one million k.t. of CO2 emissions.\n",
    "\n",
    "Let's see the proportional percentages of CO2 emissions for each country alone:"
   ]
  },
  {
   "cell_type": "code",
   "execution_count": null,
   "metadata": {},
   "outputs": [],
   "source": [
    "threshold = temp_df.iloc[10, 1]"
   ]
  },
  {
   "cell_type": "code",
   "execution_count": null,
   "metadata": {},
   "outputs": [],
   "source": [
    "# label countries emitting less than theshold as Rest of the world\n",
    "temp_df.loc[lambda x: x[\"co2 emissions\"] <= threshold, \"Country\"] = \"Rest of the world\""
   ]
  },
  {
   "cell_type": "code",
   "execution_count": null,
   "metadata": {},
   "outputs": [],
   "source": [
    "fig = px.pie(\n",
    "    data_frame=temp_df,\n",
    "    names=\"Country\",\n",
    "    values=\"co2 emissions\",\n",
    "    title=\"Emissions percentages for the top 10 countries in the last decade\",\n",
    ")\n",
    "\n",
    "fig.show()"
   ]
  },
  {
   "cell_type": "markdown",
   "metadata": {},
   "source": [
    "Mapping each country's emissions to percentages shows that not only China is emitting the most, it's emitting 30% of total CO2 emissions, followed by the U.S. with 15%.\n",
    "\n",
    "This chart shows each country's proportion of emissions for *only* the top 10 countries. China's emissions are equal to more than 200 countries' emissions combined, this clearly makes China a big responsible for the climate change.\n",
    "\n",
    "All this analysis is based on the last decade, so we can't get the full picture of **who's emitting the most**. In the next section, will consider all the historicall emissions: since year `1960` till year `2016`."
   ]
  },
  {
   "cell_type": "code",
   "execution_count": null,
   "metadata": {},
   "outputs": [],
   "source": [
    "fig_name = \"Emissions-percentages-for-the-top-10-countries-in-last-decade\"\n",
    "save_figure(fig, fig_name)"
   ]
  },
  {
   "cell_type": "markdown",
   "metadata": {
    "collapsed": "true"
   },
   "source": [
    "## Which countries emitted the most in total:"
   ]
  },
  {
   "cell_type": "markdown",
   "metadata": {},
   "source": [
    "To get a full pictures of the carbon dioxide emissions, we should analyze emissions data throughout history.\n",
    "\n",
    "Looking at emissions throughout history will help us understand which countries contributed the most to the climate change."
   ]
  },
  {
   "cell_type": "code",
   "execution_count": null,
   "metadata": {},
   "outputs": [],
   "source": [
    "time_series_df.head()"
   ]
  },
  {
   "cell_type": "code",
   "execution_count": null,
   "metadata": {},
   "outputs": [],
   "source": [
    "temp_df = (\n",
    "    time_series_df.groupby(by=\"Country\")\n",
    "    .agg({\"co2 emissions\": \"sum\"})\n",
    "    .reset_index()\n",
    "    .sort_values(by=\"co2 emissions\", ascending=False)\n",
    ")"
   ]
  },
  {
   "cell_type": "code",
   "execution_count": null,
   "metadata": {},
   "outputs": [],
   "source": [
    "fig = px.bar(\n",
    "    data_frame=temp_df[:20],\n",
    "    x=\"Country\",\n",
    "    y=\"co2 emissions\",\n",
    "    color=\"co2 emissions\",\n",
    "    color_continuous_scale=[\"#FAA307\", \"#DC2F02\"],\n",
    "    labels={\"co2 emissions\": \"CO2 emissions\"},\n",
    "    title=\"Top 20 most emitter countries throughout history\",\n",
    ")\n",
    "\n",
    "fig.show()"
   ]
  },
  {
   "cell_type": "markdown",
   "metadata": {},
   "source": [
    "This chart shows that the `United States` emitted the most carbon dioxide with more than 250 million k.t., `China` in the second place with 180 million k.t.\n",
    "\n",
    "We can see that most european countries are among the most emitters: `United Kingdom`, `France`, `Germany`. `Italy`, `Poland` and `Spain`.\n",
    "\n",
    "Even if the european countries only contributed with small amounts of CO2 emissions in the last decade, they have contributed a lot in the last centuries, which makes them among the biggest reponsibles for the climate change. The same goes for the `United States` which have emitted a tremendously large amount of carbon dioxide."
   ]
  },
  {
   "cell_type": "code",
   "execution_count": null,
   "metadata": {},
   "outputs": [],
   "source": [
    "fig_name = \"Top 20 most emitter countries throughout history\"\n",
    "save_figure(fig, fig_name)"
   ]
  },
  {
   "cell_type": "code",
   "execution_count": null,
   "metadata": {},
   "outputs": [],
   "source": [
    "temp_df.head(11)"
   ]
  },
  {
   "cell_type": "code",
   "execution_count": null,
   "metadata": {},
   "outputs": [],
   "source": [
    "threshold = temp_df.iloc[10, 1]"
   ]
  },
  {
   "cell_type": "code",
   "execution_count": null,
   "metadata": {},
   "outputs": [],
   "source": [
    "temp_df.loc[lambda x: x[\"co2 emissions\"] <= threshold, \"Country\"] = \"Rest of the world\""
   ]
  },
  {
   "cell_type": "code",
   "execution_count": null,
   "metadata": {},
   "outputs": [],
   "source": [
    "fig = px.pie(\n",
    "    data_frame=temp_df,\n",
    "    values=\"co2 emissions\",\n",
    "    names=\"Country\",\n",
    "    title=\"Emissions percentages for the top 10 countries throughout history\",\n",
    ")\n",
    "\n",
    "fig.show()"
   ]
  },
  {
   "cell_type": "code",
   "execution_count": null,
   "metadata": {},
   "outputs": [],
   "source": [
    "fig_name = \"Emissions-percentages-for-the-top-10-countries-in-the-last-decade\"\n",
    "save_figure(fig, fig_name)"
   ]
  },
  {
   "cell_type": "markdown",
   "metadata": {
    "collapsed": "true"
   },
   "source": [
    "## Comparing countries today's and historical emissions:"
   ]
  },
  {
   "cell_type": "code",
   "execution_count": null,
   "metadata": {},
   "outputs": [],
   "source": [
    "# top_10_countries = temp_df[:10][\"Country\"].values"
   ]
  },
  {
   "cell_type": "code",
   "execution_count": null,
   "metadata": {},
   "outputs": [],
   "source": [
    "now_emissions_df = (\n",
    "    time_series_df[time_series_df.Year >= 2010]\n",
    "    .groupby(by=\"Country\")\n",
    "    .agg({\"co2 emissions\": np.mean})\n",
    "    .reset_index()\n",
    "    .sort_values(by=\"co2 emissions\", ascending=False)\n",
    "    .rename(columns={\"co2 emissions\": \"today's emissions\"})\n",
    "    .dropna()\n",
    ")"
   ]
  },
  {
   "cell_type": "code",
   "execution_count": null,
   "metadata": {},
   "outputs": [],
   "source": [
    "historical_emissions_df = (\n",
    "    time_series_df.groupby(by=\"Country\")\n",
    "    .agg({\"co2 emissions\": \"sum\"})\n",
    "    .reset_index()\n",
    "    .sort_values(by=\"co2 emissions\", ascending=False)\n",
    "    .rename(columns={\"co2 emissions\": \"historical emissions\"})\n",
    ")"
   ]
  },
  {
   "cell_type": "code",
   "execution_count": null,
   "metadata": {},
   "outputs": [],
   "source": [
    "temp_df = pd.merge(\n",
    "    left=now_emissions_df, right=historical_emissions_df, on=\"Country\"\n",
    ").sort_values(by=[\"historical emissions\", \"today's emissions\"], ascending=False)"
   ]
  },
  {
   "cell_type": "code",
   "execution_count": null,
   "metadata": {},
   "outputs": [],
   "source": [
    "threshold = temp_df.iloc[10, 2]"
   ]
  },
  {
   "cell_type": "code",
   "execution_count": null,
   "metadata": {},
   "outputs": [],
   "source": [
    "temp_df.loc[\n",
    "    lambda x: x[\"historical emissions\"] <= threshold, \"Country\"\n",
    "] = \"Rest of the world\""
   ]
  },
  {
   "cell_type": "code",
   "execution_count": null,
   "metadata": {},
   "outputs": [],
   "source": [
    "fig = make_subplots(rows=1, cols=2, specs=[[{\"type\": \"domain\"}, {\"type\": \"domain\"}]])\n",
    "\n",
    "fig.add_trace(\n",
    "    go.Pie(\n",
    "        labels=temp_df[\"Country\"],\n",
    "        values=temp_df[\"historical emissions\"],\n",
    "        title=\"historical emissions\",\n",
    "    ),\n",
    "    1,\n",
    "    1,\n",
    ")\n",
    "\n",
    "fig.add_trace(\n",
    "    go.Pie(\n",
    "        labels=temp_df[\"Country\"],\n",
    "        values=temp_df[\"today's emissions\"],\n",
    "        title=\"today's emissions\",\n",
    "    ),\n",
    "    1,\n",
    "    2,\n",
    ")\n",
    "\n",
    "fig.update_layout(title_text=\"Total emissions: now and throughout history\")\n",
    "\n",
    "fig.show()"
   ]
  },
  {
   "cell_type": "code",
   "execution_count": null,
   "metadata": {},
   "outputs": [],
   "source": [
    "fig_name = 'today-and-historical-emissions'\n",
    "save_figure(fig, fig_name)"
   ]
  },
  {
   "cell_type": "code",
   "execution_count": null,
   "metadata": {},
   "outputs": [],
   "source": []
  }
 ],
 "metadata": {
  "kernelspec": {
   "display_name": "Python 3",
   "language": "python",
   "name": "python3"
  },
  "language_info": {
   "codemirror_mode": {
    "name": "ipython",
    "version": 3
   },
   "file_extension": ".py",
   "mimetype": "text/x-python",
   "name": "python",
   "nbconvert_exporter": "python",
   "pygments_lexer": "ipython3",
   "version": "3.8.3"
  },
  "toc-autonumbering": true,
  "toc-showcode": false,
  "toc-showmarkdowntxt": false,
  "toc-showtags": false
 },
 "nbformat": 4,
 "nbformat_minor": 4
}
